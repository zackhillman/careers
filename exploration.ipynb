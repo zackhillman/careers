{
 "cells": [
  {
   "cell_type": "code",
   "execution_count": null,
   "metadata": {
    "scrolled": false
   },
   "outputs": [],
   "source": [
    "import pandas as pd\n",
    "\n",
    "pd.options.display.max_rows = 100\n",
    "\n",
    "# import matplotlib\n",
    "df = pd.read_json(\"output.json\")\n",
    "\n",
    "column_rename_map = {\"Organization\": \"org\",\n",
    "                     \"Wage Type\" : \"wage_type\", \n",
    "                     \"Wage (Maximum)\" : \"max_wage\", \n",
    "                     \"Co-op Job Title\" : \"title\", \n",
    "                     \"Openings\": \"openings\",\n",
    "                    \"Region\": \"region\",\n",
    "                    \"Source College\": \"college\"}\n",
    "\n",
    "# rename all columns and only look at renamed columns\n",
    "df = df.rename(columns = column_rename_map)[column_rename_map.values()]\n",
    "\n",
    "\n",
    "list(df)\n",
    "def make_number(x):\n",
    "    try:\n",
    "        res = float(x)\n",
    "        return res\n",
    "    except:\n",
    "        return 0\n",
    "\n",
    "#normalize null wages\n",
    "df['max_wage'] = df['max_wage'].apply(make_number)\n",
    "\n",
    "hourlies = df[df['wage_type'] == \"Hourly\"]\n",
    "ccis_hourlies = hourlies[hourlies['college'] == \"Coll of Computer & Info Sci\"]\n",
    "# hourlies.hist(column=\"max_wage\")\n",
    "\n",
    "# hourlies = hourlies.sort_values(by=['max_wage'], ascending=False)\n",
    "# hourlies[['max_wage', 'Organization', 'title']].head(20)\n",
    "ccis_hourlies = ccis_hourlies.sort_values(by=['max_wage'], ascending=False)\n",
    "ccis_hourlies.head(100)"
   ]
  }
 ],
 "metadata": {
  "kernelspec": {
   "display_name": "Python 3",
   "language": "python",
   "name": "python3"
  },
  "language_info": {
   "codemirror_mode": {
    "name": "ipython",
    "version": 3
   },
   "file_extension": ".py",
   "mimetype": "text/x-python",
   "name": "python",
   "nbconvert_exporter": "python",
   "pygments_lexer": "ipython3",
   "version": "3.7.0"
  }
 },
 "nbformat": 4,
 "nbformat_minor": 4
}
